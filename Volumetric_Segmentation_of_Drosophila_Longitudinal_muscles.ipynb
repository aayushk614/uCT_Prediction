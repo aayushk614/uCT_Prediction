{
  "nbformat": 4,
  "nbformat_minor": 0,
  "metadata": {
    "colab": {
      "name": "Volumetric Segmentation of Drosophila Longitudinal muscles.ipynb",
      "provenance": [],
      "collapsed_sections": [],
      "machine_shape": "hm"
    },
    "language_info": {
      "codemirror_mode": {
        "name": "ipython",
        "version": 3
      },
      "file_extension": ".py",
      "mimetype": "text/x-python",
      "name": "python",
      "nbconvert_exporter": "python",
      "pygments_lexer": "ipython3",
      "version": "3.6.7"
    },
    "kernelspec": {
      "name": "python3",
      "display_name": "Python 3"
    },
    "accelerator": "GPU"
  },
  "cells": [
    {
      "cell_type": "markdown",
      "metadata": {
        "id": "IkSguVy8Xv83"
      },
      "source": [
        "# **Volumetric Segmentation of Drosophila Longitudinal muscles**\n",
        "---\n",
        "\n",
        "<font size = 4>Indirect flight muscles (IFMs) in adult Drosophila provide the key power stroke for wing beating. They also serve as a valuable model for studying muscle development. Such analyses are impeded by conventional histological preparations and imaging techniques that limit exact morphometry of flight muscles. In this tutorial, microCT scanning is employed on a tissue preparation that retains muscle morphology under homeostatic conditions. Focusing on a subset of IFMs called the dorsal longitudinal muscles (DLMs), it is found that DLM volumes increase with age, partially due to the increased separation between myofibrillar fascicles, in a sex-dependentmanner.The authors have uncovered and quantified asymmetry in the size of these muscles on either side of the longitudinal midline.Measurements of this resolution and scalemake substantive studies that test the connection between form and function possible.\n",
        "\n",
        "\n",
        "<font size = 4> **In this tutorial, you will learn how to predict the Drosophila longitudinal muscles instance masks on the CT Fly dataset released by Chaturvedi, et al. in 2019.**\n",
        "\n",
        "\n",
        "\n",
        "<font size = 4>**The Original code** is freely available in GitHub:\n",
        "https://github.com/aayushk614/pytorch_connectomics/tree/master/projects/microCT\n",
        "\n"
      ]
    },
    {
      "cell_type": "markdown",
      "metadata": {
        "id": "n4yWFoJNnoin"
      },
      "source": [
        "# **1. Initialise the Colab session**\n",
        "\n",
        "\n",
        "\n",
        "\n",
        "---\n",
        "\n",
        "\n",
        "\n",
        "\n"
      ]
    },
    {
      "cell_type": "markdown",
      "metadata": {
        "id": "sNIVx8_CLolt"
      },
      "source": [
        "## **1.1. Mount your Google Drive**\n",
        "---\n",
        "<font size = 4> To use this notebook on the data present in your Google Drive, you need to mount your Google Drive to this notebook.\n",
        "\n",
        "<font size = 4> Play the cell below to mount your Google Drive and follow the link. In the new browser window, select your drive and select 'Allow', copy the code, paste into the cell and press enter. This will give Colab access to the data on the drive. \n",
        "\n",
        "<font size = 4> Once this is done, your data are available in the **Files** tab on the top left of notebook."
      ]
    },
    {
      "cell_type": "code",
      "metadata": {
        "id": "01Djr8v-5pPk",
        "cellView": "form",
        "colab": {
          "base_uri": "https://localhost:8080/"
        },
        "outputId": "3adfb2c1-e994-43de-fa2e-b30872cf957d"
      },
      "source": [
        "#@markdown ##Play the cell to connect your Google Drive to Colab\n",
        "\n",
        "#@markdown * Click on the URL. \n",
        "\n",
        "#@markdown * Sign in your Google Account. \n",
        "\n",
        "#@markdown * Copy the authorization code. \n",
        "\n",
        "#@markdown * Enter the authorization code. \n",
        "\n",
        "#@markdown * Click on \"Files\" site on the right. Refresh the site. Your Google Drive folder should now be available here as \"drive\". \n",
        "\n",
        "# mount user's Google Drive to Google Colab.\n",
        "from google.colab import drive\n",
        "drive.mount('/content/gdrive')"
      ],
      "execution_count": null,
      "outputs": [
        {
          "output_type": "stream",
          "text": [
            "Mounted at /content/gdrive\n"
          ],
          "name": "stdout"
        }
      ]
    },
    {
      "cell_type": "markdown",
      "metadata": {
        "id": "AdN8B91xZO0x"
      },
      "source": [
        "# **2. Install the packages and dependencies**\n",
        "---\n"
      ]
    },
    {
      "cell_type": "code",
      "metadata": {
        "id": "fq21zJVFNASx"
      },
      "source": [
        "from threedunet import unet_residual_3d\n",
        "\n",
        "import imageio\n",
        "import h5py\n",
        "\n",
        "import torch\n",
        "import os,datetime\n",
        "import torch\n",
        "import torch.nn as nn\n",
        "import numpy as np\n",
        "from torchsummary import summary\n",
        "\n",
        "\n",
        "def read_h5(filename, dataset=''):\n",
        "    fid = h5py.File(filename, 'r')\n",
        "    if dataset == '':\n",
        "        dataset = list(fid)[0]\n",
        "    return np.array(fid[dataset])"
      ],
      "execution_count": null,
      "outputs": []
    },
    {
      "cell_type": "code",
      "metadata": {
        "id": "EapJIK6eLF8L"
      },
      "source": [
        "device = torch.device(\"cuda\" if torch.cuda.is_available() else \"cpu\")\r\n",
        "model= unet_residual_3d(in_channel=1, out_channel=13).to(device)\r\n",
        "model = nn.DataParallel(model, device_ids=range(1))\r\n",
        "microct_model = model.to(device)"
      ],
      "execution_count": null,
      "outputs": []
    },
    {
      "cell_type": "code",
      "metadata": {
        "colab": {
          "base_uri": "https://localhost:8080/"
        },
        "id": "6trX6PvaMg87",
        "outputId": "5dcb9a4a-b8d4-40ab-c65f-a7ac85b3a5bb"
      },
      "source": [
        "summary(microct_model,(1,112,112,112))"
      ],
      "execution_count": null,
      "outputs": [
        {
          "output_type": "stream",
          "text": [
            "----------------------------------------------------------------\n",
            "        Layer (type)               Output Shape         Param #\n",
            "================================================================\n",
            "  ReplicationPad3d-1     [-1, 1, 112, 116, 116]               0\n",
            "            Conv3d-2    [-1, 28, 112, 112, 112]             728\n",
            "SynchronizedBatchNorm3d-3    [-1, 28, 112, 112, 112]              56\n",
            "               ELU-4    [-1, 28, 112, 112, 112]               0\n",
            "  ReplicationPad3d-5    [-1, 28, 112, 114, 114]               0\n",
            "            Conv3d-6    [-1, 28, 112, 112, 112]           7,084\n",
            "SynchronizedBatchNorm3d-7    [-1, 28, 112, 112, 112]              56\n",
            "               ELU-8    [-1, 28, 112, 112, 112]               0\n",
            "  ReplicationPad3d-9    [-1, 28, 112, 114, 114]               0\n",
            "           Conv3d-10    [-1, 28, 112, 112, 112]           7,084\n",
            "SynchronizedBatchNorm3d-11    [-1, 28, 112, 112, 112]              56\n",
            "              ELU-12    [-1, 28, 112, 112, 112]               0\n",
            " ReplicationPad3d-13    [-1, 28, 112, 114, 114]               0\n",
            "           Conv3d-14    [-1, 28, 112, 112, 112]           7,084\n",
            "SynchronizedBatchNorm3d-15    [-1, 28, 112, 112, 112]              56\n",
            "              ELU-16    [-1, 28, 112, 112, 112]               0\n",
            "residual_block_2d-17    [-1, 28, 112, 112, 112]               0\n",
            "        MaxPool3d-18      [-1, 28, 112, 56, 56]               0\n",
            " ReplicationPad3d-19      [-1, 28, 112, 58, 58]               0\n",
            "           Conv3d-20      [-1, 36, 112, 56, 56]           9,108\n",
            "SynchronizedBatchNorm3d-21      [-1, 36, 112, 56, 56]              72\n",
            "              ELU-22      [-1, 36, 112, 56, 56]               0\n",
            " ReplicationPad3d-23      [-1, 36, 114, 58, 58]               0\n",
            "           Conv3d-24      [-1, 36, 112, 56, 56]          35,028\n",
            "SynchronizedBatchNorm3d-25      [-1, 36, 112, 56, 56]              72\n",
            "              ELU-26      [-1, 36, 112, 56, 56]               0\n",
            " ReplicationPad3d-27      [-1, 36, 114, 58, 58]               0\n",
            "           Conv3d-28      [-1, 36, 112, 56, 56]          35,028\n",
            "SynchronizedBatchNorm3d-29      [-1, 36, 112, 56, 56]              72\n",
            "              ELU-30      [-1, 36, 112, 56, 56]               0\n",
            "residual_block_3d-31      [-1, 36, 112, 56, 56]               0\n",
            "        MaxPool3d-32      [-1, 36, 112, 28, 28]               0\n",
            " ReplicationPad3d-33      [-1, 36, 112, 30, 30]               0\n",
            "           Conv3d-34      [-1, 48, 112, 28, 28]          15,600\n",
            "SynchronizedBatchNorm3d-35      [-1, 48, 112, 28, 28]              96\n",
            "              ELU-36      [-1, 48, 112, 28, 28]               0\n",
            " ReplicationPad3d-37      [-1, 48, 114, 30, 30]               0\n",
            "           Conv3d-38      [-1, 48, 112, 28, 28]          62,256\n",
            "SynchronizedBatchNorm3d-39      [-1, 48, 112, 28, 28]              96\n",
            "              ELU-40      [-1, 48, 112, 28, 28]               0\n",
            " ReplicationPad3d-41      [-1, 48, 114, 30, 30]               0\n",
            "           Conv3d-42      [-1, 48, 112, 28, 28]          62,256\n",
            "SynchronizedBatchNorm3d-43      [-1, 48, 112, 28, 28]              96\n",
            "              ELU-44      [-1, 48, 112, 28, 28]               0\n",
            "residual_block_3d-45      [-1, 48, 112, 28, 28]               0\n",
            "        MaxPool3d-46      [-1, 48, 112, 14, 14]               0\n",
            " ReplicationPad3d-47      [-1, 48, 112, 16, 16]               0\n",
            "           Conv3d-48      [-1, 64, 112, 14, 14]          27,712\n",
            "SynchronizedBatchNorm3d-49      [-1, 64, 112, 14, 14]             128\n",
            "              ELU-50      [-1, 64, 112, 14, 14]               0\n",
            " ReplicationPad3d-51      [-1, 64, 114, 16, 16]               0\n",
            "           Conv3d-52      [-1, 64, 112, 14, 14]         110,656\n",
            "SynchronizedBatchNorm3d-53      [-1, 64, 112, 14, 14]             128\n",
            "              ELU-54      [-1, 64, 112, 14, 14]               0\n",
            " ReplicationPad3d-55      [-1, 64, 114, 16, 16]               0\n",
            "           Conv3d-56      [-1, 64, 112, 14, 14]         110,656\n",
            "SynchronizedBatchNorm3d-57      [-1, 64, 112, 14, 14]             128\n",
            "              ELU-58      [-1, 64, 112, 14, 14]               0\n",
            "residual_block_3d-59      [-1, 64, 112, 14, 14]               0\n",
            "        MaxPool3d-60        [-1, 64, 112, 7, 7]               0\n",
            " ReplicationPad3d-61        [-1, 64, 112, 9, 9]               0\n",
            "           Conv3d-62        [-1, 80, 112, 7, 7]          46,160\n",
            "SynchronizedBatchNorm3d-63        [-1, 80, 112, 7, 7]             160\n",
            "              ELU-64        [-1, 80, 112, 7, 7]               0\n",
            " ReplicationPad3d-65        [-1, 80, 114, 9, 9]               0\n",
            "           Conv3d-66        [-1, 80, 112, 7, 7]         172,880\n",
            "SynchronizedBatchNorm3d-67        [-1, 80, 112, 7, 7]             160\n",
            "              ELU-68        [-1, 80, 112, 7, 7]               0\n",
            " ReplicationPad3d-69        [-1, 80, 114, 9, 9]               0\n",
            "           Conv3d-70        [-1, 80, 112, 7, 7]         172,880\n",
            "SynchronizedBatchNorm3d-71        [-1, 80, 112, 7, 7]             160\n",
            "           Conv3d-72        [-1, 80, 112, 7, 7]           6,480\n",
            "SynchronizedBatchNorm3d-73        [-1, 80, 112, 7, 7]             160\n",
            "              ELU-74        [-1, 80, 112, 7, 7]               0\n",
            "residual_block_3d-75        [-1, 80, 112, 7, 7]               0\n",
            "           Conv3d-76        [-1, 64, 112, 7, 7]           5,184\n",
            "SynchronizedBatchNorm3d-77        [-1, 64, 112, 7, 7]             128\n",
            "              ELU-78        [-1, 64, 112, 7, 7]               0\n",
            "         Upsample-79      [-1, 64, 112, 14, 14]               0\n",
            " ReplicationPad3d-80      [-1, 64, 112, 16, 16]               0\n",
            "           Conv3d-81      [-1, 64, 112, 14, 14]          36,928\n",
            "SynchronizedBatchNorm3d-82      [-1, 64, 112, 14, 14]             128\n",
            "              ELU-83      [-1, 64, 112, 14, 14]               0\n",
            " ReplicationPad3d-84      [-1, 64, 114, 16, 16]               0\n",
            "           Conv3d-85      [-1, 64, 112, 14, 14]         110,656\n",
            "SynchronizedBatchNorm3d-86      [-1, 64, 112, 14, 14]             128\n",
            "              ELU-87      [-1, 64, 112, 14, 14]               0\n",
            " ReplicationPad3d-88      [-1, 64, 114, 16, 16]               0\n",
            "           Conv3d-89      [-1, 64, 112, 14, 14]         110,656\n",
            "SynchronizedBatchNorm3d-90      [-1, 64, 112, 14, 14]             128\n",
            "              ELU-91      [-1, 64, 112, 14, 14]               0\n",
            "residual_block_3d-92      [-1, 64, 112, 14, 14]               0\n",
            "           Conv3d-93      [-1, 48, 112, 14, 14]           3,120\n",
            "SynchronizedBatchNorm3d-94      [-1, 48, 112, 14, 14]              96\n",
            "              ELU-95      [-1, 48, 112, 14, 14]               0\n",
            "         Upsample-96      [-1, 48, 112, 28, 28]               0\n",
            " ReplicationPad3d-97      [-1, 48, 112, 30, 30]               0\n",
            "           Conv3d-98      [-1, 48, 112, 28, 28]          20,784\n",
            "SynchronizedBatchNorm3d-99      [-1, 48, 112, 28, 28]              96\n",
            "             ELU-100      [-1, 48, 112, 28, 28]               0\n",
            "ReplicationPad3d-101      [-1, 48, 114, 30, 30]               0\n",
            "          Conv3d-102      [-1, 48, 112, 28, 28]          62,256\n",
            "SynchronizedBatchNorm3d-103      [-1, 48, 112, 28, 28]              96\n",
            "             ELU-104      [-1, 48, 112, 28, 28]               0\n",
            "ReplicationPad3d-105      [-1, 48, 114, 30, 30]               0\n",
            "          Conv3d-106      [-1, 48, 112, 28, 28]          62,256\n",
            "SynchronizedBatchNorm3d-107      [-1, 48, 112, 28, 28]              96\n",
            "             ELU-108      [-1, 48, 112, 28, 28]               0\n",
            "residual_block_3d-109      [-1, 48, 112, 28, 28]               0\n",
            "          Conv3d-110      [-1, 36, 112, 28, 28]           1,764\n",
            "SynchronizedBatchNorm3d-111      [-1, 36, 112, 28, 28]              72\n",
            "             ELU-112      [-1, 36, 112, 28, 28]               0\n",
            "        Upsample-113      [-1, 36, 112, 56, 56]               0\n",
            "ReplicationPad3d-114      [-1, 36, 112, 58, 58]               0\n",
            "          Conv3d-115      [-1, 36, 112, 56, 56]          11,700\n",
            "SynchronizedBatchNorm3d-116      [-1, 36, 112, 56, 56]              72\n",
            "             ELU-117      [-1, 36, 112, 56, 56]               0\n",
            "ReplicationPad3d-118      [-1, 36, 114, 58, 58]               0\n",
            "          Conv3d-119      [-1, 36, 112, 56, 56]          35,028\n",
            "SynchronizedBatchNorm3d-120      [-1, 36, 112, 56, 56]              72\n",
            "             ELU-121      [-1, 36, 112, 56, 56]               0\n",
            "ReplicationPad3d-122      [-1, 36, 114, 58, 58]               0\n",
            "          Conv3d-123      [-1, 36, 112, 56, 56]          35,028\n",
            "SynchronizedBatchNorm3d-124      [-1, 36, 112, 56, 56]              72\n",
            "             ELU-125      [-1, 36, 112, 56, 56]               0\n",
            "residual_block_3d-126      [-1, 36, 112, 56, 56]               0\n",
            "          Conv3d-127      [-1, 28, 112, 56, 56]           1,036\n",
            "SynchronizedBatchNorm3d-128      [-1, 28, 112, 56, 56]              56\n",
            "             ELU-129      [-1, 28, 112, 56, 56]               0\n",
            "        Upsample-130    [-1, 28, 112, 112, 112]               0\n",
            "ReplicationPad3d-131    [-1, 28, 112, 114, 114]               0\n",
            "          Conv3d-132    [-1, 28, 112, 112, 112]           7,084\n",
            "SynchronizedBatchNorm3d-133    [-1, 28, 112, 112, 112]              56\n",
            "             ELU-134    [-1, 28, 112, 112, 112]               0\n",
            "ReplicationPad3d-135    [-1, 28, 112, 114, 114]               0\n",
            "          Conv3d-136    [-1, 28, 112, 112, 112]           7,084\n",
            "SynchronizedBatchNorm3d-137    [-1, 28, 112, 112, 112]              56\n",
            "             ELU-138    [-1, 28, 112, 112, 112]               0\n",
            "ReplicationPad3d-139    [-1, 28, 112, 114, 114]               0\n",
            "          Conv3d-140    [-1, 28, 112, 112, 112]           7,084\n",
            "SynchronizedBatchNorm3d-141    [-1, 28, 112, 112, 112]              56\n",
            "             ELU-142    [-1, 28, 112, 112, 112]               0\n",
            "residual_block_2d-143    [-1, 28, 112, 112, 112]               0\n",
            "ReplicationPad3d-144    [-1, 28, 112, 116, 116]               0\n",
            "          Conv3d-145    [-1, 13, 112, 112, 112]           9,113\n",
            "SynchronizedBatchNorm3d-146    [-1, 13, 112, 112, 112]              26\n",
            "unet_residual_3d-147    [-1, 13, 112, 112, 112]               0\n",
            "================================================================\n",
            "Total params: 1,418,627\n",
            "Trainable params: 1,418,627\n",
            "Non-trainable params: 0\n",
            "----------------------------------------------------------------\n",
            "Input size (MB): 5.36\n",
            "Forward/backward pass size (MB): 14143.38\n",
            "Params size (MB): 5.41\n",
            "Estimated Total Size (MB): 14154.15\n",
            "----------------------------------------------------------------\n"
          ],
          "name": "stdout"
        }
      ]
    },
    {
      "cell_type": "markdown",
      "metadata": {
        "id": "HLYcZR9gMv42"
      },
      "source": [
        "# **3. Select and load your model checkpoint and testing volume**\n",
        "---"
      ]
    },
    {
      "cell_type": "markdown",
      "metadata": {
        "id": "FQ_QxtSWQ7CL"
      },
      "source": [
        "## **3.1. Setting model checkpoint or weights**\n",
        "---\n",
        "<font size = 4>  Here, you can set the the path to a pre-trained model from which the weights can be extracted and used for carrying out the predictions. **This pre-trained model needs to be a 3D Unet Residual model**. "
      ]
    },
    {
      "cell_type": "code",
      "metadata": {
        "id": "itoqZHplM4EJ"
      },
      "source": [
        "# load pre-trained model\r\n",
        "checkpoint = 'checkpoint_90000.pth.tar'"
      ],
      "execution_count": null,
      "outputs": []
    },
    {
      "cell_type": "code",
      "metadata": {
        "id": "0ygTJ7QPM2Ty"
      },
      "source": [
        "\r\n",
        "print('Load pretrained checkpoint: ', checkpoint)\r\n",
        "checkpoint = torch.load(checkpoint)\r\n",
        "print('checkpoints: ', checkpoint.keys())\r\n",
        "\r\n",
        "# update model weights\r\n",
        "if 'state_dict' in checkpoint.keys():\r\n",
        "    pretrained_dict = checkpoint['state_dict']\r\n",
        "    model_dict = microct_model.state_dict() # nn.DataParallel\r\n",
        "    # 1. filter out unnecessary keys\r\n",
        "    pretrained_dict = {k: v for k, v in pretrained_dict.items() if k in model_dict}\r\n",
        "    # 2. overwrite entries in the existing state dict \r\n",
        "    model_dict.update(pretrained_dict)    \r\n",
        "    # 3. load the new state dict\r\n",
        "    microct_model.load_state_dict(model_dict) # nn.DataParallel\r\n",
        "    \r\n",
        "    print(\"new state dict loaded \")\r\n",
        "    "
      ],
      "execution_count": null,
      "outputs": []
    },
    {
      "cell_type": "markdown",
      "metadata": {
        "id": "3L9zSGtORKYI"
      },
      "source": [
        "\n",
        "## **3.2. Select the test Volume**\n",
        "---\n"
      ]
    },
    {
      "cell_type": "code",
      "metadata": {
        "id": "P5UeBB7QNlgD"
      },
      "source": [
        "Dim = 'MvsFCSfemaleday2-4-DownSamp_im.h5'"
      ],
      "execution_count": null,
      "outputs": []
    },
    {
      "cell_type": "markdown",
      "metadata": {
        "id": "Kwn3_crLNqFh"
      },
      "source": [
        "Prepare the training data into a suitable format for testing.\r\n"
      ]
    },
    {
      "cell_type": "code",
      "metadata": {
        "id": "R9vp5aLlNW86"
      },
      "source": [
        "image_volume = read_h5(Dim)   #reading CT volume \r\n",
        "print(image_volume.shape)\r\n",
        "vol = image_volume\r\n",
        "\r\n",
        "volume = torch.from_numpy(vol).to(device, dtype=torch.float)\r\n",
        "volume = volume.unsqueeze(0)\r\n",
        "\r\n",
        "volume = volume.unsqueeze(0)\r\n",
        "\r\n",
        "print(volume.shape)"
      ],
      "execution_count": null,
      "outputs": []
    },
    {
      "cell_type": "markdown",
      "metadata": {
        "id": "d8wuQGjoq6eN"
      },
      "source": [
        "## **6.1. Generate prediction(s) from testing dataset**\n",
        "---\n",
        "\n",
        "<font size = 4>The current trained model (from section 3.1) can now be used to process testing volumes. \n",
        "\n",
        "\n",
        "\n"
      ]
    },
    {
      "cell_type": "code",
      "metadata": {
        "id": "R75p_iFEON6_"
      },
      "source": [
        "pred = microct_model(volume)"
      ],
      "execution_count": null,
      "outputs": []
    },
    {
      "cell_type": "markdown",
      "metadata": {
        "id": "i11bzf1KOUBV"
      },
      "source": [
        "Check if the predictions are in correct format or not."
      ]
    },
    {
      "cell_type": "code",
      "metadata": {
        "id": "8GN6t8grOQED"
      },
      "source": [
        "print(\"Shape of pred after test\", pred.shape)\r\n",
        "pred = pred.squeeze(0)\r\n",
        "print(\"Shape of pred after test\", pred.shape)\r\n",
        "pred = pred.cpu()\r\n",
        "arr1 = np.argmax(pred.detach().numpy(),axis=0).astype(np.uint16)\r\n",
        "print(\"shape of Predictions after argmax() function \", arr1.shape)"
      ],
      "execution_count": null,
      "outputs": []
    },
    {
      "cell_type": "markdown",
      "metadata": {
        "id": "hvkd66PldsXB"
      },
      "source": [
        "## **6.2. Save and Download your predictions**\n",
        "---\n",
        "\n",
        "<font size = 4> "
      ]
    },
    {
      "cell_type": "code",
      "metadata": {
        "id": "EXwXlX29Ocw1"
      },
      "source": [
        "hf1 = h5py.File('MvsFCSfemaleday2-4-DownSamp_pred.h5', 'w')\r\n",
        "hf1.create_dataset('dataset1', data=arr1)\r\n",
        "print(\"pred volume created and saved\" , hf1)\r\n",
        "hf1.close()"
      ],
      "execution_count": null,
      "outputs": []
    },
    {
      "cell_type": "markdown",
      "metadata": {
        "id": "UvSlTaH14s3t"
      },
      "source": [
        "#**Thank you for using the tutorial!**"
      ]
    }
  ]
}